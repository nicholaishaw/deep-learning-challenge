{
 "cells": [
  {
   "cell_type": "markdown",
   "metadata": {
    "id": "GSBE5r0NPQCc"
   },
   "source": [
    "## Preprocessing"
   ]
  },
  {
   "cell_type": "code",
   "execution_count": 1,
   "metadata": {
    "colab": {
     "base_uri": "https://localhost:8080/",
     "height": 206
    },
    "id": "gucIj0tQPQCe",
    "outputId": "e195766f-e225-44e1-ef83-2ffd3d395262"
   },
   "outputs": [
    {
     "data": {
      "text/html": [
       "<div>\n",
       "<style scoped>\n",
       "    .dataframe tbody tr th:only-of-type {\n",
       "        vertical-align: middle;\n",
       "    }\n",
       "\n",
       "    .dataframe tbody tr th {\n",
       "        vertical-align: top;\n",
       "    }\n",
       "\n",
       "    .dataframe thead th {\n",
       "        text-align: right;\n",
       "    }\n",
       "</style>\n",
       "<table border=\"1\" class=\"dataframe\">\n",
       "  <thead>\n",
       "    <tr style=\"text-align: right;\">\n",
       "      <th></th>\n",
       "      <th>EIN</th>\n",
       "      <th>NAME</th>\n",
       "      <th>APPLICATION_TYPE</th>\n",
       "      <th>AFFILIATION</th>\n",
       "      <th>CLASSIFICATION</th>\n",
       "      <th>USE_CASE</th>\n",
       "      <th>ORGANIZATION</th>\n",
       "      <th>STATUS</th>\n",
       "      <th>INCOME_AMT</th>\n",
       "      <th>SPECIAL_CONSIDERATIONS</th>\n",
       "      <th>ASK_AMT</th>\n",
       "      <th>IS_SUCCESSFUL</th>\n",
       "    </tr>\n",
       "  </thead>\n",
       "  <tbody>\n",
       "    <tr>\n",
       "      <th>0</th>\n",
       "      <td>10520599</td>\n",
       "      <td>BLUE KNIGHTS MOTORCYCLE CLUB</td>\n",
       "      <td>T10</td>\n",
       "      <td>Independent</td>\n",
       "      <td>C1000</td>\n",
       "      <td>ProductDev</td>\n",
       "      <td>Association</td>\n",
       "      <td>1</td>\n",
       "      <td>0</td>\n",
       "      <td>N</td>\n",
       "      <td>5000</td>\n",
       "      <td>1</td>\n",
       "    </tr>\n",
       "    <tr>\n",
       "      <th>1</th>\n",
       "      <td>10531628</td>\n",
       "      <td>AMERICAN CHESAPEAKE CLUB CHARITABLE TR</td>\n",
       "      <td>T3</td>\n",
       "      <td>Independent</td>\n",
       "      <td>C2000</td>\n",
       "      <td>Preservation</td>\n",
       "      <td>Co-operative</td>\n",
       "      <td>1</td>\n",
       "      <td>1-9999</td>\n",
       "      <td>N</td>\n",
       "      <td>108590</td>\n",
       "      <td>1</td>\n",
       "    </tr>\n",
       "    <tr>\n",
       "      <th>2</th>\n",
       "      <td>10547893</td>\n",
       "      <td>ST CLOUD PROFESSIONAL FIREFIGHTERS</td>\n",
       "      <td>T5</td>\n",
       "      <td>CompanySponsored</td>\n",
       "      <td>C3000</td>\n",
       "      <td>ProductDev</td>\n",
       "      <td>Association</td>\n",
       "      <td>1</td>\n",
       "      <td>0</td>\n",
       "      <td>N</td>\n",
       "      <td>5000</td>\n",
       "      <td>0</td>\n",
       "    </tr>\n",
       "    <tr>\n",
       "      <th>3</th>\n",
       "      <td>10553066</td>\n",
       "      <td>SOUTHSIDE ATHLETIC ASSOCIATION</td>\n",
       "      <td>T3</td>\n",
       "      <td>CompanySponsored</td>\n",
       "      <td>C2000</td>\n",
       "      <td>Preservation</td>\n",
       "      <td>Trust</td>\n",
       "      <td>1</td>\n",
       "      <td>10000-24999</td>\n",
       "      <td>N</td>\n",
       "      <td>6692</td>\n",
       "      <td>1</td>\n",
       "    </tr>\n",
       "    <tr>\n",
       "      <th>4</th>\n",
       "      <td>10556103</td>\n",
       "      <td>GENETIC RESEARCH INSTITUTE OF THE DESERT</td>\n",
       "      <td>T3</td>\n",
       "      <td>Independent</td>\n",
       "      <td>C1000</td>\n",
       "      <td>Heathcare</td>\n",
       "      <td>Trust</td>\n",
       "      <td>1</td>\n",
       "      <td>100000-499999</td>\n",
       "      <td>N</td>\n",
       "      <td>142590</td>\n",
       "      <td>1</td>\n",
       "    </tr>\n",
       "  </tbody>\n",
       "</table>\n",
       "</div>"
      ],
      "text/plain": [
       "        EIN                                      NAME APPLICATION_TYPE  \\\n",
       "0  10520599              BLUE KNIGHTS MOTORCYCLE CLUB              T10   \n",
       "1  10531628    AMERICAN CHESAPEAKE CLUB CHARITABLE TR               T3   \n",
       "2  10547893        ST CLOUD PROFESSIONAL FIREFIGHTERS               T5   \n",
       "3  10553066            SOUTHSIDE ATHLETIC ASSOCIATION               T3   \n",
       "4  10556103  GENETIC RESEARCH INSTITUTE OF THE DESERT               T3   \n",
       "\n",
       "        AFFILIATION CLASSIFICATION      USE_CASE  ORGANIZATION  STATUS  \\\n",
       "0       Independent          C1000    ProductDev   Association       1   \n",
       "1       Independent          C2000  Preservation  Co-operative       1   \n",
       "2  CompanySponsored          C3000    ProductDev   Association       1   \n",
       "3  CompanySponsored          C2000  Preservation         Trust       1   \n",
       "4       Independent          C1000     Heathcare         Trust       1   \n",
       "\n",
       "      INCOME_AMT SPECIAL_CONSIDERATIONS  ASK_AMT  IS_SUCCESSFUL  \n",
       "0              0                      N     5000              1  \n",
       "1         1-9999                      N   108590              1  \n",
       "2              0                      N     5000              0  \n",
       "3    10000-24999                      N     6692              1  \n",
       "4  100000-499999                      N   142590              1  "
      ]
     },
     "execution_count": 1,
     "metadata": {},
     "output_type": "execute_result"
    }
   ],
   "source": [
    "# Notebook was created in Google Colab and later downloaded as a Jupyter file\n",
    "# Tutor David Chao assisted with the development of the logic and syntax of this code.\n",
    "# Import our dependencies\n",
    "from sklearn.model_selection import train_test_split\n",
    "from sklearn.preprocessing import StandardScaler\n",
    "import pandas as pd\n",
    "import tensorflow as tf\n",
    "\n",
    "#  Import and read the charity_data.csv.\n",
    "import pandas as pd\n",
    "application_df = pd.read_csv(\"https://static.bc-edx.com/data/dl-1-2/m21/lms/starter/charity_data.csv\")\n",
    "application_df.head()"
   ]
  },
  {
   "cell_type": "code",
   "execution_count": 2,
   "metadata": {
    "colab": {
     "base_uri": "https://localhost:8080/",
     "height": 424
    },
    "id": "aNuAaEatPQCg",
    "outputId": "a36ceeb5-ef9c-4700-c76f-c1b4bebce0bd"
   },
   "outputs": [
    {
     "data": {
      "text/html": [
       "<div>\n",
       "<style scoped>\n",
       "    .dataframe tbody tr th:only-of-type {\n",
       "        vertical-align: middle;\n",
       "    }\n",
       "\n",
       "    .dataframe tbody tr th {\n",
       "        vertical-align: top;\n",
       "    }\n",
       "\n",
       "    .dataframe thead th {\n",
       "        text-align: right;\n",
       "    }\n",
       "</style>\n",
       "<table border=\"1\" class=\"dataframe\">\n",
       "  <thead>\n",
       "    <tr style=\"text-align: right;\">\n",
       "      <th></th>\n",
       "      <th>APPLICATION_TYPE</th>\n",
       "      <th>AFFILIATION</th>\n",
       "      <th>CLASSIFICATION</th>\n",
       "      <th>USE_CASE</th>\n",
       "      <th>ORGANIZATION</th>\n",
       "      <th>STATUS</th>\n",
       "      <th>INCOME_AMT</th>\n",
       "      <th>SPECIAL_CONSIDERATIONS</th>\n",
       "      <th>ASK_AMT</th>\n",
       "      <th>IS_SUCCESSFUL</th>\n",
       "    </tr>\n",
       "  </thead>\n",
       "  <tbody>\n",
       "    <tr>\n",
       "      <th>0</th>\n",
       "      <td>T10</td>\n",
       "      <td>Independent</td>\n",
       "      <td>C1000</td>\n",
       "      <td>ProductDev</td>\n",
       "      <td>Association</td>\n",
       "      <td>1</td>\n",
       "      <td>0</td>\n",
       "      <td>N</td>\n",
       "      <td>5000</td>\n",
       "      <td>1</td>\n",
       "    </tr>\n",
       "    <tr>\n",
       "      <th>1</th>\n",
       "      <td>T3</td>\n",
       "      <td>Independent</td>\n",
       "      <td>C2000</td>\n",
       "      <td>Preservation</td>\n",
       "      <td>Co-operative</td>\n",
       "      <td>1</td>\n",
       "      <td>1-9999</td>\n",
       "      <td>N</td>\n",
       "      <td>108590</td>\n",
       "      <td>1</td>\n",
       "    </tr>\n",
       "    <tr>\n",
       "      <th>2</th>\n",
       "      <td>T5</td>\n",
       "      <td>CompanySponsored</td>\n",
       "      <td>C3000</td>\n",
       "      <td>ProductDev</td>\n",
       "      <td>Association</td>\n",
       "      <td>1</td>\n",
       "      <td>0</td>\n",
       "      <td>N</td>\n",
       "      <td>5000</td>\n",
       "      <td>0</td>\n",
       "    </tr>\n",
       "    <tr>\n",
       "      <th>3</th>\n",
       "      <td>T3</td>\n",
       "      <td>CompanySponsored</td>\n",
       "      <td>C2000</td>\n",
       "      <td>Preservation</td>\n",
       "      <td>Trust</td>\n",
       "      <td>1</td>\n",
       "      <td>10000-24999</td>\n",
       "      <td>N</td>\n",
       "      <td>6692</td>\n",
       "      <td>1</td>\n",
       "    </tr>\n",
       "    <tr>\n",
       "      <th>4</th>\n",
       "      <td>T3</td>\n",
       "      <td>Independent</td>\n",
       "      <td>C1000</td>\n",
       "      <td>Heathcare</td>\n",
       "      <td>Trust</td>\n",
       "      <td>1</td>\n",
       "      <td>100000-499999</td>\n",
       "      <td>N</td>\n",
       "      <td>142590</td>\n",
       "      <td>1</td>\n",
       "    </tr>\n",
       "    <tr>\n",
       "      <th>...</th>\n",
       "      <td>...</td>\n",
       "      <td>...</td>\n",
       "      <td>...</td>\n",
       "      <td>...</td>\n",
       "      <td>...</td>\n",
       "      <td>...</td>\n",
       "      <td>...</td>\n",
       "      <td>...</td>\n",
       "      <td>...</td>\n",
       "      <td>...</td>\n",
       "    </tr>\n",
       "    <tr>\n",
       "      <th>34294</th>\n",
       "      <td>T4</td>\n",
       "      <td>Independent</td>\n",
       "      <td>C1000</td>\n",
       "      <td>ProductDev</td>\n",
       "      <td>Association</td>\n",
       "      <td>1</td>\n",
       "      <td>0</td>\n",
       "      <td>N</td>\n",
       "      <td>5000</td>\n",
       "      <td>0</td>\n",
       "    </tr>\n",
       "    <tr>\n",
       "      <th>34295</th>\n",
       "      <td>T4</td>\n",
       "      <td>CompanySponsored</td>\n",
       "      <td>C3000</td>\n",
       "      <td>ProductDev</td>\n",
       "      <td>Association</td>\n",
       "      <td>1</td>\n",
       "      <td>0</td>\n",
       "      <td>N</td>\n",
       "      <td>5000</td>\n",
       "      <td>0</td>\n",
       "    </tr>\n",
       "    <tr>\n",
       "      <th>34296</th>\n",
       "      <td>T3</td>\n",
       "      <td>CompanySponsored</td>\n",
       "      <td>C2000</td>\n",
       "      <td>Preservation</td>\n",
       "      <td>Association</td>\n",
       "      <td>1</td>\n",
       "      <td>0</td>\n",
       "      <td>N</td>\n",
       "      <td>5000</td>\n",
       "      <td>0</td>\n",
       "    </tr>\n",
       "    <tr>\n",
       "      <th>34297</th>\n",
       "      <td>T5</td>\n",
       "      <td>Independent</td>\n",
       "      <td>C3000</td>\n",
       "      <td>ProductDev</td>\n",
       "      <td>Association</td>\n",
       "      <td>1</td>\n",
       "      <td>0</td>\n",
       "      <td>N</td>\n",
       "      <td>5000</td>\n",
       "      <td>1</td>\n",
       "    </tr>\n",
       "    <tr>\n",
       "      <th>34298</th>\n",
       "      <td>T3</td>\n",
       "      <td>Independent</td>\n",
       "      <td>C1000</td>\n",
       "      <td>Preservation</td>\n",
       "      <td>Co-operative</td>\n",
       "      <td>1</td>\n",
       "      <td>1M-5M</td>\n",
       "      <td>N</td>\n",
       "      <td>36500179</td>\n",
       "      <td>0</td>\n",
       "    </tr>\n",
       "  </tbody>\n",
       "</table>\n",
       "<p>34299 rows × 10 columns</p>\n",
       "</div>"
      ],
      "text/plain": [
       "      APPLICATION_TYPE       AFFILIATION CLASSIFICATION      USE_CASE  \\\n",
       "0                  T10       Independent          C1000    ProductDev   \n",
       "1                   T3       Independent          C2000  Preservation   \n",
       "2                   T5  CompanySponsored          C3000    ProductDev   \n",
       "3                   T3  CompanySponsored          C2000  Preservation   \n",
       "4                   T3       Independent          C1000     Heathcare   \n",
       "...                ...               ...            ...           ...   \n",
       "34294               T4       Independent          C1000    ProductDev   \n",
       "34295               T4  CompanySponsored          C3000    ProductDev   \n",
       "34296               T3  CompanySponsored          C2000  Preservation   \n",
       "34297               T5       Independent          C3000    ProductDev   \n",
       "34298               T3       Independent          C1000  Preservation   \n",
       "\n",
       "       ORGANIZATION  STATUS     INCOME_AMT SPECIAL_CONSIDERATIONS   ASK_AMT  \\\n",
       "0       Association       1              0                      N      5000   \n",
       "1      Co-operative       1         1-9999                      N    108590   \n",
       "2       Association       1              0                      N      5000   \n",
       "3             Trust       1    10000-24999                      N      6692   \n",
       "4             Trust       1  100000-499999                      N    142590   \n",
       "...             ...     ...            ...                    ...       ...   \n",
       "34294   Association       1              0                      N      5000   \n",
       "34295   Association       1              0                      N      5000   \n",
       "34296   Association       1              0                      N      5000   \n",
       "34297   Association       1              0                      N      5000   \n",
       "34298  Co-operative       1          1M-5M                      N  36500179   \n",
       "\n",
       "       IS_SUCCESSFUL  \n",
       "0                  1  \n",
       "1                  1  \n",
       "2                  0  \n",
       "3                  1  \n",
       "4                  1  \n",
       "...              ...  \n",
       "34294              0  \n",
       "34295              0  \n",
       "34296              0  \n",
       "34297              1  \n",
       "34298              0  \n",
       "\n",
       "[34299 rows x 10 columns]"
      ]
     },
     "execution_count": 2,
     "metadata": {},
     "output_type": "execute_result"
    }
   ],
   "source": [
    "# Drop the non-beneficial ID columns, 'EIN' and 'NAME'.\n",
    "#  YOUR CODE GOES HERE\n",
    "application_df = application_df.drop([\"EIN\", \"NAME\"], axis='columns')\n",
    "application_df"
   ]
  },
  {
   "cell_type": "code",
   "execution_count": 3,
   "metadata": {
    "colab": {
     "base_uri": "https://localhost:8080/"
    },
    "id": "Ub-4GVdtPQCg",
    "outputId": "7aacf459-832d-459a-95d2-42a1eb2e2f2a"
   },
   "outputs": [
    {
     "data": {
      "text/plain": [
       "APPLICATION_TYPE            17\n",
       "AFFILIATION                  6\n",
       "CLASSIFICATION              71\n",
       "USE_CASE                     5\n",
       "ORGANIZATION                 4\n",
       "STATUS                       2\n",
       "INCOME_AMT                   9\n",
       "SPECIAL_CONSIDERATIONS       2\n",
       "ASK_AMT                   8747\n",
       "IS_SUCCESSFUL                2\n",
       "dtype: int64"
      ]
     },
     "execution_count": 3,
     "metadata": {},
     "output_type": "execute_result"
    }
   ],
   "source": [
    "# Determine the number of unique values in each column.\n",
    "#  YOUR CODE GOES HERE\n",
    "application_df.nunique()"
   ]
  },
  {
   "cell_type": "code",
   "execution_count": 4,
   "metadata": {
    "colab": {
     "base_uri": "https://localhost:8080/"
    },
    "id": "u218RRSdPQCg",
    "outputId": "88ea0594-627c-4bb4-9fbb-aa899c0ccb94"
   },
   "outputs": [
    {
     "data": {
      "text/plain": [
       "T3     27037\n",
       "T4      1542\n",
       "T6      1216\n",
       "T5      1173\n",
       "T19     1065\n",
       "T8       737\n",
       "T7       725\n",
       "T10      528\n",
       "T9       156\n",
       "T13       66\n",
       "T12       27\n",
       "T2        16\n",
       "T25        3\n",
       "T14        3\n",
       "T29        2\n",
       "T15        2\n",
       "T17        1\n",
       "Name: APPLICATION_TYPE, dtype: int64"
      ]
     },
     "execution_count": 4,
     "metadata": {},
     "output_type": "execute_result"
    }
   ],
   "source": [
    "# Look at APPLICATION_TYPE value counts for binning\n",
    "#  YOUR CODE GOES HERE\n",
    "counts_application = application_df['APPLICATION_TYPE'].value_counts()\n",
    "counts_application\n"
   ]
  },
  {
   "cell_type": "code",
   "execution_count": 5,
   "metadata": {
    "colab": {
     "base_uri": "https://localhost:8080/"
    },
    "id": "-_vzsrluPQCh",
    "outputId": "d158259c-5e8f-4227-c586-d0125ce402af"
   },
   "outputs": [
    {
     "data": {
      "text/plain": [
       "T3       27037\n",
       "T4        1542\n",
       "T6        1216\n",
       "T5        1173\n",
       "T19       1065\n",
       "T8         737\n",
       "T7         725\n",
       "T10        528\n",
       "Other      276\n",
       "Name: APPLICATION_TYPE, dtype: int64"
      ]
     },
     "execution_count": 5,
     "metadata": {},
     "output_type": "execute_result"
    }
   ],
   "source": [
    "# Choose a cutoff value and create a list of application types to be replaced\n",
    "# use the variable name `application_types_to_replace`\n",
    "#  YOUR CODE GOES HERE\n",
    "application_types_to_replace = list(counts_application[counts_application < 500].index)\n",
    "\n",
    "# Replace in dataframe\n",
    "for app in application_types_to_replace:\n",
    "    application_df['APPLICATION_TYPE'] = application_df['APPLICATION_TYPE'].replace(app,\"Other\")\n",
    "\n",
    "# Check to make sure binning was successful\n",
    "application_df['APPLICATION_TYPE'].value_counts()"
   ]
  },
  {
   "cell_type": "code",
   "execution_count": 6,
   "metadata": {
    "colab": {
     "base_uri": "https://localhost:8080/"
    },
    "id": "xYewzYbRPQCh",
    "outputId": "4ddce9d7-fe3d-4129-f2c0-3384c6dac9bc"
   },
   "outputs": [
    {
     "data": {
      "text/plain": [
       "C1000    17326\n",
       "C2000     6074\n",
       "C1200     4837\n",
       "C3000     1918\n",
       "C2100     1883\n",
       "         ...  \n",
       "C4120        1\n",
       "C8210        1\n",
       "C2561        1\n",
       "C4500        1\n",
       "C2150        1\n",
       "Name: CLASSIFICATION, Length: 71, dtype: int64"
      ]
     },
     "execution_count": 6,
     "metadata": {},
     "output_type": "execute_result"
    }
   ],
   "source": [
    "# Look at CLASSIFICATION value counts for binning\n",
    "#  YOUR CODE GOES HERE\n",
    "counts_classification = application_df['CLASSIFICATION'].value_counts()\n",
    "counts_classification"
   ]
  },
  {
   "cell_type": "code",
   "execution_count": 7,
   "metadata": {
    "colab": {
     "base_uri": "https://localhost:8080/"
    },
    "id": "hNj_wu9OPQCh",
    "outputId": "a42040f1-be41-4b56-b557-93ac99faf0b2"
   },
   "outputs": [
    {
     "data": {
      "text/plain": [
       "C1000    17326\n",
       "C2000     6074\n",
       "C1200     4837\n",
       "C3000     1918\n",
       "C2100     1883\n",
       "C7000      777\n",
       "C1700      287\n",
       "C4000      194\n",
       "C5000      116\n",
       "C1270      114\n",
       "C2700      104\n",
       "C2800       95\n",
       "C7100       75\n",
       "C1300       58\n",
       "C1280       50\n",
       "C1230       36\n",
       "C1400       34\n",
       "C7200       32\n",
       "C2300       32\n",
       "C1240       30\n",
       "C8000       20\n",
       "C7120       18\n",
       "C1500       16\n",
       "C1800       15\n",
       "C6000       15\n",
       "C1250       14\n",
       "C8200       11\n",
       "C1238       10\n",
       "C1278       10\n",
       "C1235        9\n",
       "C1237        9\n",
       "C7210        7\n",
       "C2400        6\n",
       "C1720        6\n",
       "C4100        6\n",
       "C1257        5\n",
       "C1600        5\n",
       "C1260        3\n",
       "C2710        3\n",
       "C0           3\n",
       "C3200        2\n",
       "C1234        2\n",
       "C1246        2\n",
       "C1267        2\n",
       "C1256        2\n",
       "Name: CLASSIFICATION, dtype: int64"
      ]
     },
     "execution_count": 7,
     "metadata": {},
     "output_type": "execute_result"
    }
   ],
   "source": [
    "# You may find it helpful to look at CLASSIFICATION value counts >1\n",
    "#  YOUR CODE GOES HERE\n",
    "counts_classification[counts_classification > 1]"
   ]
  },
  {
   "cell_type": "code",
   "execution_count": 8,
   "metadata": {
    "colab": {
     "base_uri": "https://localhost:8080/"
    },
    "id": "AzfnFhslPQCh",
    "outputId": "b1c37a51-1ccb-47bd-f647-377f6a39f0a4"
   },
   "outputs": [
    {
     "data": {
      "text/plain": [
       "C1000    17326\n",
       "C2000     6074\n",
       "C1200     4837\n",
       "Other     2261\n",
       "C3000     1918\n",
       "C2100     1883\n",
       "Name: CLASSIFICATION, dtype: int64"
      ]
     },
     "execution_count": 8,
     "metadata": {},
     "output_type": "execute_result"
    }
   ],
   "source": [
    "# Choose a cutoff value and create a list of classifications to be replaced\n",
    "# use the variable name `classifications_to_replace`\n",
    "#  YOUR CODE GOES HERE\n",
    "classifications_to_replace = list(counts_classification[counts_classification < 1000].index)\n",
    "\n",
    "# Replace in dataframe\n",
    "for cls in classifications_to_replace:\n",
    "    application_df['CLASSIFICATION'] = application_df['CLASSIFICATION'].replace(cls,\"Other\")\n",
    "\n",
    "# Check to make sure binning was successful\n",
    "application_df['CLASSIFICATION'].value_counts()"
   ]
  },
  {
   "cell_type": "code",
   "execution_count": 9,
   "metadata": {
    "colab": {
     "base_uri": "https://localhost:8080/"
    },
    "id": "Fpv0VSCfPQCi",
    "outputId": "7b0beaa6-337e-4183-cc30-ecfae90cd6d9"
   },
   "outputs": [
    {
     "data": {
      "text/plain": [
       "(34299, 44)"
      ]
     },
     "execution_count": 9,
     "metadata": {},
     "output_type": "execute_result"
    }
   ],
   "source": [
    "# Convert categorical data to numeric with `pd.get_dummies`\n",
    "#  YOUR CODE GOES HERE\n",
    "categorical_df = pd.get_dummies(application_df)\n",
    "categorical_df.shape"
   ]
  },
  {
   "cell_type": "code",
   "execution_count": 10,
   "metadata": {
    "id": "f1j5KOfGPQCi"
   },
   "outputs": [],
   "source": [
    "# Split our preprocessed data into our features and target arrays\n",
    "#  YOUR CODE GOES HERE\n",
    "X = categorical_df.drop([\"IS_SUCCESSFUL\"], axis='columns').values\n",
    "y = categorical_df[\"IS_SUCCESSFUL\"].values\n",
    "\n",
    "\n",
    "# Split the preprocessed data into a training and testing dataset\n",
    "#  YOUR CODE GOES HERE\n",
    "X_train, X_test, y_train, y_test = train_test_split(X, y, test_size=0.2, random_state=78)\n"
   ]
  },
  {
   "cell_type": "code",
   "execution_count": 11,
   "metadata": {
    "id": "qDEAoauxPQCi"
   },
   "outputs": [],
   "source": [
    "# Create a StandardScaler instances\n",
    "scaler = StandardScaler()\n",
    "\n",
    "# Fit the StandardScaler\n",
    "X_scaler = scaler.fit(X_train)\n",
    "\n",
    "# Scale the data\n",
    "X_train_scaled = X_scaler.transform(X_train)\n",
    "X_test_scaled = X_scaler.transform(X_test)"
   ]
  },
  {
   "cell_type": "markdown",
   "metadata": {
    "id": "_WTUtcZIPQCi"
   },
   "source": [
    "## Compile, Train and Evaluate the Model"
   ]
  },
  {
   "cell_type": "code",
   "execution_count": 12,
   "metadata": {
    "colab": {
     "base_uri": "https://localhost:8080/"
    },
    "id": "iAlDawInPQCj",
    "outputId": "61c1918d-7933-483d-fd7c-3521aa6d9ef1"
   },
   "outputs": [
    {
     "name": "stdout",
     "output_type": "stream",
     "text": [
      "Model: \"sequential\"\n",
      "_________________________________________________________________\n",
      " Layer (type)                Output Shape              Param #   \n",
      "=================================================================\n",
      " dense (Dense)               (None, 80)                3520      \n",
      "                                                                 \n",
      " dense_1 (Dense)             (None, 30)                2430      \n",
      "                                                                 \n",
      " dense_2 (Dense)             (None, 1)                 31        \n",
      "                                                                 \n",
      "=================================================================\n",
      "Total params: 5981 (23.36 KB)\n",
      "Trainable params: 5981 (23.36 KB)\n",
      "Non-trainable params: 0 (0.00 Byte)\n",
      "_________________________________________________________________\n"
     ]
    }
   ],
   "source": [
    "# Define the model - deep neural net, i.e., the number of input features and hidden nodes for each layer.\n",
    "#  YOUR CODE GOES HERE\n",
    "\n",
    "number_input_features = len(X_train[0])\n",
    "hidden_nodes_layer1 =  80\n",
    "hidden_nodes_layer2 = 30\n",
    "nn = tf.keras.models.Sequential()\n",
    "\n",
    "# First hidden layer\n",
    "#  YOUR CODE GOES HERE\n",
    "nn.add(\n",
    "    tf.keras.layers.Dense(units=hidden_nodes_layer1, input_dim=number_input_features, activation=\"relu\")\n",
    ")\n",
    "\n",
    "# Second hidden layer\n",
    "#  YOUR CODE GOES HERE\n",
    "nn.add(\n",
    "    tf.keras.layers.Dense(units=hidden_nodes_layer2, input_dim=number_input_features, activation=\"relu\")\n",
    ")\n",
    "\n",
    "# Output layer\n",
    "#  YOUR CODE GOES HERE\n",
    "nn.add(\n",
    "    tf.keras.layers.Dense(units=1, activation=\"sigmoid\")\n",
    ")\n",
    "\n",
    "# Check the structure of the model\n",
    "nn.summary()"
   ]
  },
  {
   "cell_type": "code",
   "execution_count": 13,
   "metadata": {
    "id": "lsTyfpl5PQCj"
   },
   "outputs": [],
   "source": [
    "# Compile the model\n",
    "#  YOUR CODE GOES HERE\n",
    "nn.compile(loss='binary_crossentropy', optimizer='adam', metrics=['accuracy'])"
   ]
  },
  {
   "cell_type": "code",
   "execution_count": 14,
   "metadata": {
    "colab": {
     "base_uri": "https://localhost:8080/"
    },
    "id": "vewfPkS7PQCj",
    "outputId": "f5830977-a958-4cb0-ba8c-e056787c4d3d"
   },
   "outputs": [
    {
     "name": "stdout",
     "output_type": "stream",
     "text": [
      "Epoch 1/100\n",
      "858/858 [==============================] - 4s 2ms/step - loss: 0.5702 - accuracy: 0.7238\n",
      "Epoch 2/100\n",
      "858/858 [==============================] - 2s 2ms/step - loss: 0.5557 - accuracy: 0.7308\n",
      "Epoch 3/100\n",
      "858/858 [==============================] - 1s 2ms/step - loss: 0.5535 - accuracy: 0.7317\n",
      "Epoch 4/100\n",
      "858/858 [==============================] - 2s 2ms/step - loss: 0.5512 - accuracy: 0.7323\n",
      "Epoch 5/100\n",
      "858/858 [==============================] - 2s 2ms/step - loss: 0.5499 - accuracy: 0.7324\n",
      "Epoch 6/100\n",
      "858/858 [==============================] - 3s 3ms/step - loss: 0.5491 - accuracy: 0.7325\n",
      "Epoch 7/100\n",
      "858/858 [==============================] - 3s 4ms/step - loss: 0.5482 - accuracy: 0.7326\n",
      "Epoch 8/100\n",
      "858/858 [==============================] - 3s 3ms/step - loss: 0.5470 - accuracy: 0.7339\n",
      "Epoch 9/100\n",
      "858/858 [==============================] - 2s 2ms/step - loss: 0.5471 - accuracy: 0.7342\n",
      "Epoch 10/100\n",
      "858/858 [==============================] - 2s 2ms/step - loss: 0.5459 - accuracy: 0.7352\n",
      "Epoch 11/100\n",
      "858/858 [==============================] - 2s 2ms/step - loss: 0.5458 - accuracy: 0.7349\n",
      "Epoch 12/100\n",
      "858/858 [==============================] - 2s 2ms/step - loss: 0.5453 - accuracy: 0.7344\n",
      "Epoch 13/100\n",
      "858/858 [==============================] - 2s 2ms/step - loss: 0.5448 - accuracy: 0.7366\n",
      "Epoch 14/100\n",
      "858/858 [==============================] - 2s 2ms/step - loss: 0.5445 - accuracy: 0.7365\n",
      "Epoch 15/100\n",
      "858/858 [==============================] - 2s 2ms/step - loss: 0.5441 - accuracy: 0.7370\n",
      "Epoch 16/100\n",
      "858/858 [==============================] - 2s 2ms/step - loss: 0.5438 - accuracy: 0.7376\n",
      "Epoch 17/100\n",
      "858/858 [==============================] - 2s 2ms/step - loss: 0.5442 - accuracy: 0.7356\n",
      "Epoch 18/100\n",
      "858/858 [==============================] - 2s 2ms/step - loss: 0.5436 - accuracy: 0.7358\n",
      "Epoch 19/100\n",
      "858/858 [==============================] - 2s 2ms/step - loss: 0.5430 - accuracy: 0.7369\n",
      "Epoch 20/100\n",
      "858/858 [==============================] - 2s 2ms/step - loss: 0.5425 - accuracy: 0.7368\n",
      "Epoch 21/100\n",
      "858/858 [==============================] - 2s 2ms/step - loss: 0.5423 - accuracy: 0.7371\n",
      "Epoch 22/100\n",
      "858/858 [==============================] - 2s 2ms/step - loss: 0.5430 - accuracy: 0.7377\n",
      "Epoch 23/100\n",
      "858/858 [==============================] - 2s 2ms/step - loss: 0.5421 - accuracy: 0.7363\n",
      "Epoch 24/100\n",
      "858/858 [==============================] - 2s 2ms/step - loss: 0.5420 - accuracy: 0.7375\n",
      "Epoch 25/100\n",
      "858/858 [==============================] - 2s 2ms/step - loss: 0.5420 - accuracy: 0.7375\n",
      "Epoch 26/100\n",
      "858/858 [==============================] - 2s 2ms/step - loss: 0.5419 - accuracy: 0.7373\n",
      "Epoch 27/100\n",
      "858/858 [==============================] - 1s 2ms/step - loss: 0.5414 - accuracy: 0.7371\n",
      "Epoch 28/100\n",
      "858/858 [==============================] - 2s 2ms/step - loss: 0.5414 - accuracy: 0.7384\n",
      "Epoch 29/100\n",
      "858/858 [==============================] - 2s 2ms/step - loss: 0.5412 - accuracy: 0.7391\n",
      "Epoch 30/100\n",
      "858/858 [==============================] - 2s 2ms/step - loss: 0.5414 - accuracy: 0.7383\n",
      "Epoch 31/100\n",
      "858/858 [==============================] - 2s 2ms/step - loss: 0.5406 - accuracy: 0.7384\n",
      "Epoch 32/100\n",
      "858/858 [==============================] - 2s 2ms/step - loss: 0.5405 - accuracy: 0.7396\n",
      "Epoch 33/100\n",
      "858/858 [==============================] - 1s 2ms/step - loss: 0.5403 - accuracy: 0.7381\n",
      "Epoch 34/100\n",
      "858/858 [==============================] - 2s 2ms/step - loss: 0.5407 - accuracy: 0.7389\n",
      "Epoch 35/100\n",
      "858/858 [==============================] - 2s 2ms/step - loss: 0.5406 - accuracy: 0.7392\n",
      "Epoch 36/100\n",
      "858/858 [==============================] - 2s 2ms/step - loss: 0.5402 - accuracy: 0.7391\n",
      "Epoch 37/100\n",
      "858/858 [==============================] - 2s 2ms/step - loss: 0.5400 - accuracy: 0.7395\n",
      "Epoch 38/100\n",
      "858/858 [==============================] - 1s 2ms/step - loss: 0.5401 - accuracy: 0.7387\n",
      "Epoch 39/100\n",
      "858/858 [==============================] - 2s 2ms/step - loss: 0.5401 - accuracy: 0.7386\n",
      "Epoch 40/100\n",
      "858/858 [==============================] - 2s 2ms/step - loss: 0.5398 - accuracy: 0.7376\n",
      "Epoch 41/100\n",
      "858/858 [==============================] - 2s 2ms/step - loss: 0.5398 - accuracy: 0.7387\n",
      "Epoch 42/100\n",
      "858/858 [==============================] - 2s 2ms/step - loss: 0.5396 - accuracy: 0.7387\n",
      "Epoch 43/100\n",
      "858/858 [==============================] - 2s 2ms/step - loss: 0.5392 - accuracy: 0.7396\n",
      "Epoch 44/100\n",
      "858/858 [==============================] - 2s 2ms/step - loss: 0.5396 - accuracy: 0.7390\n",
      "Epoch 45/100\n",
      "858/858 [==============================] - 2s 2ms/step - loss: 0.5392 - accuracy: 0.7396\n",
      "Epoch 46/100\n",
      "858/858 [==============================] - 2s 2ms/step - loss: 0.5393 - accuracy: 0.7394\n",
      "Epoch 47/100\n",
      "858/858 [==============================] - 2s 2ms/step - loss: 0.5392 - accuracy: 0.7401\n",
      "Epoch 48/100\n",
      "858/858 [==============================] - 2s 2ms/step - loss: 0.5390 - accuracy: 0.7394\n",
      "Epoch 49/100\n",
      "858/858 [==============================] - 2s 2ms/step - loss: 0.5388 - accuracy: 0.7396\n",
      "Epoch 50/100\n",
      "858/858 [==============================] - 2s 2ms/step - loss: 0.5385 - accuracy: 0.7393\n",
      "Epoch 51/100\n",
      "858/858 [==============================] - 2s 2ms/step - loss: 0.5387 - accuracy: 0.7394\n",
      "Epoch 52/100\n",
      "858/858 [==============================] - 2s 2ms/step - loss: 0.5385 - accuracy: 0.7401\n",
      "Epoch 53/100\n",
      "858/858 [==============================] - 2s 2ms/step - loss: 0.5387 - accuracy: 0.7396\n",
      "Epoch 54/100\n",
      "858/858 [==============================] - 2s 2ms/step - loss: 0.5379 - accuracy: 0.7403\n",
      "Epoch 55/100\n",
      "858/858 [==============================] - 1s 2ms/step - loss: 0.5384 - accuracy: 0.7400\n",
      "Epoch 56/100\n",
      "858/858 [==============================] - 1s 2ms/step - loss: 0.5381 - accuracy: 0.7400\n",
      "Epoch 57/100\n",
      "858/858 [==============================] - 1s 2ms/step - loss: 0.5382 - accuracy: 0.7406\n",
      "Epoch 58/100\n",
      "858/858 [==============================] - 2s 2ms/step - loss: 0.5381 - accuracy: 0.7404\n",
      "Epoch 59/100\n",
      "858/858 [==============================] - 2s 2ms/step - loss: 0.5378 - accuracy: 0.7404\n",
      "Epoch 60/100\n",
      "858/858 [==============================] - 2s 2ms/step - loss: 0.5381 - accuracy: 0.7391\n",
      "Epoch 61/100\n",
      "858/858 [==============================] - 2s 2ms/step - loss: 0.5380 - accuracy: 0.7393\n",
      "Epoch 62/100\n",
      "858/858 [==============================] - 2s 2ms/step - loss: 0.5380 - accuracy: 0.7399\n",
      "Epoch 63/100\n",
      "858/858 [==============================] - 2s 2ms/step - loss: 0.5376 - accuracy: 0.7396\n",
      "Epoch 64/100\n",
      "858/858 [==============================] - 2s 2ms/step - loss: 0.5375 - accuracy: 0.7400\n",
      "Epoch 65/100\n",
      "858/858 [==============================] - 2s 2ms/step - loss: 0.5376 - accuracy: 0.7399\n",
      "Epoch 66/100\n",
      "858/858 [==============================] - 2s 2ms/step - loss: 0.5375 - accuracy: 0.7400\n",
      "Epoch 67/100\n",
      "858/858 [==============================] - 2s 2ms/step - loss: 0.5373 - accuracy: 0.7404\n",
      "Epoch 68/100\n",
      "858/858 [==============================] - 2s 2ms/step - loss: 0.5375 - accuracy: 0.7403\n",
      "Epoch 69/100\n",
      "858/858 [==============================] - 2s 2ms/step - loss: 0.5377 - accuracy: 0.7400\n",
      "Epoch 70/100\n",
      "858/858 [==============================] - 2s 2ms/step - loss: 0.5372 - accuracy: 0.7402\n",
      "Epoch 71/100\n",
      "858/858 [==============================] - 2s 2ms/step - loss: 0.5371 - accuracy: 0.7403\n",
      "Epoch 72/100\n",
      "858/858 [==============================] - 2s 2ms/step - loss: 0.5373 - accuracy: 0.7395\n",
      "Epoch 73/100\n",
      "858/858 [==============================] - 2s 2ms/step - loss: 0.5370 - accuracy: 0.7406\n",
      "Epoch 74/100\n",
      "858/858 [==============================] - 2s 2ms/step - loss: 0.5371 - accuracy: 0.7402\n",
      "Epoch 75/100\n",
      "858/858 [==============================] - 2s 2ms/step - loss: 0.5370 - accuracy: 0.7410\n",
      "Epoch 76/100\n",
      "858/858 [==============================] - 2s 2ms/step - loss: 0.5371 - accuracy: 0.7402\n",
      "Epoch 77/100\n",
      "858/858 [==============================] - 2s 2ms/step - loss: 0.5368 - accuracy: 0.7404\n",
      "Epoch 78/100\n",
      "858/858 [==============================] - 2s 2ms/step - loss: 0.5373 - accuracy: 0.7407\n",
      "Epoch 79/100\n",
      "858/858 [==============================] - 2s 2ms/step - loss: 0.5366 - accuracy: 0.7409\n",
      "Epoch 80/100\n",
      "858/858 [==============================] - 2s 2ms/step - loss: 0.5365 - accuracy: 0.7396\n",
      "Epoch 81/100\n"
     ]
    },
    {
     "name": "stdout",
     "output_type": "stream",
     "text": [
      "858/858 [==============================] - 2s 2ms/step - loss: 0.5365 - accuracy: 0.7402\n",
      "Epoch 82/100\n",
      "858/858 [==============================] - 2s 2ms/step - loss: 0.5367 - accuracy: 0.7400\n",
      "Epoch 83/100\n",
      "858/858 [==============================] - 2s 2ms/step - loss: 0.5367 - accuracy: 0.7410\n",
      "Epoch 84/100\n",
      "858/858 [==============================] - 2s 2ms/step - loss: 0.5362 - accuracy: 0.7410\n",
      "Epoch 85/100\n",
      "858/858 [==============================] - 2s 2ms/step - loss: 0.5364 - accuracy: 0.7409\n",
      "Epoch 86/100\n",
      "858/858 [==============================] - 2s 2ms/step - loss: 0.5366 - accuracy: 0.7407\n",
      "Epoch 87/100\n",
      "858/858 [==============================] - 2s 2ms/step - loss: 0.5361 - accuracy: 0.7407\n",
      "Epoch 88/100\n",
      "858/858 [==============================] - 2s 2ms/step - loss: 0.5365 - accuracy: 0.7411\n",
      "Epoch 89/100\n",
      "858/858 [==============================] - 2s 2ms/step - loss: 0.5364 - accuracy: 0.7411\n",
      "Epoch 90/100\n",
      "858/858 [==============================] - 3s 3ms/step - loss: 0.5360 - accuracy: 0.7405\n",
      "Epoch 91/100\n",
      "858/858 [==============================] - 3s 3ms/step - loss: 0.5363 - accuracy: 0.7408\n",
      "Epoch 92/100\n",
      "858/858 [==============================] - 2s 2ms/step - loss: 0.5360 - accuracy: 0.7404\n",
      "Epoch 93/100\n",
      "858/858 [==============================] - 2s 2ms/step - loss: 0.5358 - accuracy: 0.7411\n",
      "Epoch 94/100\n",
      "858/858 [==============================] - 2s 3ms/step - loss: 0.5362 - accuracy: 0.7405\n",
      "Epoch 95/100\n",
      "858/858 [==============================] - 2s 2ms/step - loss: 0.5360 - accuracy: 0.7406\n",
      "Epoch 96/100\n",
      "858/858 [==============================] - 2s 2ms/step - loss: 0.5358 - accuracy: 0.7408\n",
      "Epoch 97/100\n",
      "858/858 [==============================] - 2s 2ms/step - loss: 0.5359 - accuracy: 0.7412\n",
      "Epoch 98/100\n",
      "858/858 [==============================] - 2s 2ms/step - loss: 0.5361 - accuracy: 0.7399\n",
      "Epoch 99/100\n",
      "858/858 [==============================] - 2s 2ms/step - loss: 0.5359 - accuracy: 0.7410\n",
      "Epoch 100/100\n",
      "858/858 [==============================] - 2s 2ms/step - loss: 0.5358 - accuracy: 0.7406\n"
     ]
    }
   ],
   "source": [
    "# Train the model\n",
    "#  YOUR CODE GOES HERE\n",
    "fit_model = nn.fit(X_train_scaled, y_train, epochs=100)"
   ]
  },
  {
   "cell_type": "code",
   "execution_count": 15,
   "metadata": {
    "colab": {
     "base_uri": "https://localhost:8080/"
    },
    "id": "kbXnvY3RPQCj",
    "outputId": "d672ebb8-d79c-4e9f-aa40-88e69fb66ee7"
   },
   "outputs": [
    {
     "name": "stdout",
     "output_type": "stream",
     "text": [
      "215/215 - 0s - loss: 0.5570 - accuracy: 0.7217 - 400ms/epoch - 2ms/step\n",
      "Loss: 0.5569862127304077, Accuracy: 0.7217200994491577\n"
     ]
    }
   ],
   "source": [
    "# Evaluate the model using the test data\n",
    "model_loss, model_accuracy = nn.evaluate(X_test_scaled, y_test, verbose=2)\n",
    "print(f\"Loss: {model_loss}, Accuracy: {model_accuracy}\")"
   ]
  },
  {
   "cell_type": "code",
   "execution_count": 16,
   "metadata": {
    "colab": {
     "base_uri": "https://localhost:8080/"
    },
    "id": "Vd64r56EPQCk",
    "outputId": "34e4cc29-6908-404e-bf28-80bcb60ae1a3"
   },
   "outputs": [],
   "source": [
    "# Export our model to HDF5 file\n",
    "# Saving this as keras since HDF5 is considered legacy\n",
    "#  YOUR CODE GOES HERE\n",
    "nn.save(\"AlphabetSoup.keras\")"
   ]
  }
 ],
 "metadata": {
  "colab": {
   "provenance": []
  },
  "kernelspec": {
   "display_name": "Python 3 (ipykernel)",
   "language": "python",
   "name": "python3"
  },
  "language_info": {
   "codemirror_mode": {
    "name": "ipython",
    "version": 3
   },
   "file_extension": ".py",
   "mimetype": "text/x-python",
   "name": "python",
   "nbconvert_exporter": "python",
   "pygments_lexer": "ipython3",
   "version": "3.10.12"
  },
  "vscode": {
   "interpreter": {
    "hash": "31f2aee4e71d21fbe5cf8b01ff0e069b9275f58929596ceb00d14d90e3e16cd6"
   }
  }
 },
 "nbformat": 4,
 "nbformat_minor": 1
}
